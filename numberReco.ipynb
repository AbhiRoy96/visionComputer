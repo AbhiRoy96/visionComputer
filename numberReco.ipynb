{
 "cells": [
  {
   "cell_type": "code",
   "execution_count": 1,
   "metadata": {
    "collapsed": true
   },
   "outputs": [],
   "source": [
    "import sys\n",
    "import numpy as np\n",
    "import cv2"
   ]
  },
  {
   "cell_type": "code",
   "execution_count": 2,
   "metadata": {
    "collapsed": true
   },
   "outputs": [],
   "source": [
    "im = cv2.imread('C:/Users/dell/Desktop/train.png')\n",
    "cv2.imshow('base img',im)\n",
    "cv2.waitKey(0)\n",
    "cv2.destroyAllWindows()"
   ]
  },
  {
   "cell_type": "code",
   "execution_count": 3,
   "metadata": {
    "collapsed": true
   },
   "outputs": [],
   "source": [
    "gray = cv2.cvtColor(im,cv2.COLOR_BGR2GRAY)\n",
    "cv2.imshow('grayscale img',gray)\n",
    "cv2.waitKey(0)\n",
    "cv2.destroyAllWindows()"
   ]
  },
  {
   "cell_type": "code",
   "execution_count": 4,
   "metadata": {
    "collapsed": true
   },
   "outputs": [],
   "source": [
    "blur = cv2.GaussianBlur(gray,(5,5),0)\n",
    "cv2.imshow('blurred img',blur)\n",
    "cv2.waitKey(0)\n",
    "cv2.destroyAllWindows()"
   ]
  },
  {
   "cell_type": "code",
   "execution_count": 5,
   "metadata": {
    "collapsed": true
   },
   "outputs": [],
   "source": [
    "thresh = cv2.adaptiveThreshold(blur,255,1,1,11,2)\n",
    "cv2.imshow('threshed img',thresh)\n",
    "cv2.waitKey(0)\n",
    "cv2.destroyAllWindows()"
   ]
  },
  {
   "cell_type": "code",
   "execution_count": 6,
   "metadata": {},
   "outputs": [
    {
     "name": "stdout",
     "output_type": "stream",
     "text": [
      "training complete\n"
     ]
    }
   ],
   "source": [
    "# Detecting The Contours\n",
    "im2, contours, hierarchy = cv2.findContours(thresh,cv2.RETR_LIST,cv2.CHAIN_APPROX_SIMPLE)\n",
    "\n",
    "samples =  np.empty((0,100))\n",
    "responses = []\n",
    "keys = [i for i in range(48,58)]\n",
    "\n",
    "for cnt in contours:\n",
    "    if cv2.contourArea(cnt)>50:\n",
    "        [x,y,w,h] = cv2.boundingRect(cnt)\n",
    "\n",
    "        if  h>28:\n",
    "            cv2.rectangle(im,(x,y),(x+w,y+h),(0,0,255),2)\n",
    "            roi = thresh[y:y+h,x:x+w]\n",
    "            roismall = cv2.resize(roi,(10,10))\n",
    "            cv2.imshow('norm',im)\n",
    "            key = cv2.waitKey(0)\n",
    "\n",
    "            if key == 27:  # (escape to quit)\n",
    "                sys.exit()\n",
    "            elif key in keys:\n",
    "                responses.append(int(chr(key)))\n",
    "                sample = roismall.reshape((1,100))\n",
    "                samples = np.append(samples,sample,0)\n",
    "\n",
    "responses = np.array(responses,np.float32)\n",
    "responses = responses.reshape((responses.size,1))\n",
    "print(\"training complete\")\n",
    "\n",
    "np.savetxt('generalsamples.data',samples)\n",
    "np.savetxt('generalresponses.data',responses)"
   ]
  },
  {
   "cell_type": "code",
   "execution_count": 11,
   "metadata": {},
   "outputs": [
    {
     "data": {
      "text/plain": [
       "True"
      ]
     },
     "execution_count": 11,
     "metadata": {},
     "output_type": "execute_result"
    }
   ],
   "source": [
    "# Training Data\n",
    "samples = np.loadtxt('generalsamples.data',np.float32)\n",
    "responses = np.loadtxt('generalresponses.data',np.float32)\n",
    "responses = responses.reshape((responses.size,1))\n",
    "\n",
    "model = cv2.ml.KNearest_create()\n",
    "model.train(samples,cv2.ml.ROW_SAMPLE,responses)"
   ]
  },
  {
   "cell_type": "code",
   "execution_count": 14,
   "metadata": {},
   "outputs": [
    {
     "data": {
      "text/plain": [
       "-1"
      ]
     },
     "execution_count": 14,
     "metadata": {},
     "output_type": "execute_result"
    }
   ],
   "source": [
    "im3 = cv2.imread('C:/Users/dell/Desktop/test.png')\n",
    "out = np.zeros(im3.shape,np.uint8)\n",
    "gray = cv2.cvtColor(im3,cv2.COLOR_BGR2GRAY)\n",
    "thresh = cv2.adaptiveThreshold(gray,255,1,1,11,2)\n",
    "\n",
    "im4,contours,hierarchy = cv2.findContours(thresh,cv2.RETR_LIST,cv2.CHAIN_APPROX_SIMPLE)\n",
    "\n",
    "for cnt in contours:\n",
    "    if cv2.contourArea(cnt)>50:\n",
    "        [x,y,w,h] = cv2.boundingRect(cnt)\n",
    "        if  h>28:\n",
    "            cv2.rectangle(im3,(x,y),(x+w,y+h),(0,255,0),2)\n",
    "            roi = thresh[y:y+h,x:x+w]\n",
    "            roismall = cv2.resize(roi,(10,10))\n",
    "            roismall = roismall.reshape((1,100))\n",
    "            roismall = np.float32(roismall)\n",
    "            retval, results, neigh_resp, dists = model.findNearest(roismall, 1)\n",
    "            string = str(int((results[0][0])))\n",
    "            cv2.putText(out,string,(x,y+h),0,1,(0,255,0))\n",
    "\n",
    "cv2.imshow('Test',im3)\n",
    "cv2.imshow('out',out)\n",
    "cv2.waitKey(0)"
   ]
  },
  {
   "cell_type": "code",
   "execution_count": 21,
   "metadata": {},
   "outputs": [
    {
     "data": {
      "text/plain": [
       "-1"
      ]
     },
     "execution_count": 21,
     "metadata": {},
     "output_type": "execute_result"
    }
   ],
   "source": [
    "im3 = cv2.imread('C:/Users/dell/Desktop/fig.jpg')\n",
    "out = np.zeros(im3.shape,np.uint8)\n",
    "gray = cv2.cvtColor(im3,cv2.COLOR_BGR2GRAY)\n",
    "thresh = cv2.adaptiveThreshold(gray,255,1,1,11,2)\n",
    "\n",
    "im4,contours,hierarchy = cv2.findContours(thresh,cv2.RETR_LIST,cv2.CHAIN_APPROX_SIMPLE)\n",
    "\n",
    "for cnt in contours:\n",
    "    if cv2.contourArea(cnt)>50:\n",
    "        [x,y,w,h] = cv2.boundingRect(cnt)\n",
    "        if  h>28:\n",
    "            cv2.rectangle(im3,(x,y),(x+w,y+h),(0,255,0),2)\n",
    "            roi = thresh[y:y+h,x:x+w]\n",
    "            roismall = cv2.resize(roi,(10,10))\n",
    "            roismall = roismall.reshape((1,100))\n",
    "            roismall = np.float32(roismall)\n",
    "            retval, results, neigh_resp, dists = model.findNearest(roismall, 1)\n",
    "            string = str(int((results[0][0])))\n",
    "            cv2.putText(out,string,(x,y+h),0,1,(0,255,0))\n",
    "\n",
    "cv2.imshow('Test',im3)\n",
    "cv2.imshow('out',out)\n",
    "cv2.waitKey(0)"
   ]
  },
  {
   "cell_type": "code",
   "execution_count": null,
   "metadata": {
    "collapsed": true
   },
   "outputs": [],
   "source": []
  },
  {
   "cell_type": "code",
   "execution_count": null,
   "metadata": {
    "collapsed": true
   },
   "outputs": [],
   "source": []
  }
 ],
 "metadata": {
  "kernelspec": {
   "display_name": "Python 3",
   "language": "python",
   "name": "python3"
  },
  "language_info": {
   "codemirror_mode": {
    "name": "ipython",
    "version": 3
   },
   "file_extension": ".py",
   "mimetype": "text/x-python",
   "name": "python",
   "nbconvert_exporter": "python",
   "pygments_lexer": "ipython3",
   "version": "3.6.1"
  }
 },
 "nbformat": 4,
 "nbformat_minor": 2
}
